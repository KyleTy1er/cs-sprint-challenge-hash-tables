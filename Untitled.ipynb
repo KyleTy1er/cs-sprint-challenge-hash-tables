{
 "cells": [
  {
   "cell_type": "code",
   "execution_count": 10,
   "metadata": {},
   "outputs": [],
   "source": [
    "#  Hint:  You may not need all of these.  Remove the unused functions.\n",
    "\n",
    "class Ticket:\n",
    "    def __init__(self, source, destination):\n",
    "        self.source = source\n",
    "        self.destination = destination\n",
    "\n",
    "\n",
    "def reconstruct_trip(tickets, length):\n",
    "\n",
    "    \"\"\"\n",
    "\n",
    "    ticket_1 = Ticket(\"PIT\", \"ORD\")\n",
    "    ticket_2 = Ticket(\"XNA\", \"SAP\")\n",
    "    ticket_3 = Ticket(\"SFO\", \"BHM\")\n",
    "    ticket_4 = Ticket(\"FLG\", \"XNA\")\n",
    "    ticket_5 = Ticket(\"NONE\", \"LAX\")\n",
    "    ticket_6 = Ticket(\"LAX\", \"SFO\")\n",
    "    ticket_7 = Ticket(\"SAP\", \"SLC\")\n",
    "    ticket_8 = Ticket(\"ORD\", \"NONE\")\n",
    "    ticket_9 = Ticket(\"SLC\", \"PIT\")\n",
    "    ticket_10 = Ticket(\"BHM\", \"FLG\")\n",
    "\n",
    "\n",
    "    expected = [\"LAX\", \"SFO\", \"BHM\", \"FLG\", \"XNA\", \"SAP\",\n",
    "                    \"SLC\", \"PIT\", \"ORD\", \"NONE\"]\n",
    "\n",
    "\n",
    "    A ticket is only in the correct location if the ticket behind it points forward\n",
    "    to it, and the ticket in front points back...\n",
    "    \n",
    "    Ticket(\"LAX\", \"SFO\")\n",
    "    Ticket(\"SFO\", \"BHM\")\n",
    "    Ticket(\"BHM\", \"FLG\")\n",
    "\n",
    "\n",
    "    \"\"\"\n",
    "    # tickets will be an array of class objects...\n",
    "    # we know the first ticket is the one with a source of None...\n",
    "    # and the last ticket has a destination of None....\n",
    "    ticket_list = []\n",
    "    for i in range(len(tickets)):\n",
    "        if tickets[i].source == None:\n",
    "            ticket_list[0] = tickets[i].destination\n",
    "\n",
    "\n",
    "    return ticket_list\n",
    "\n"
   ]
  },
  {
   "cell_type": "code",
   "execution_count": 11,
   "metadata": {},
   "outputs": [],
   "source": [
    "ticket_1 = Ticket(\"PIT\", \"ORD\")\n",
    "ticket_2 = Ticket(\"XNA\", \"SAP\")\n",
    "ticket_3 = Ticket(\"SFO\", \"BHM\")\n",
    "ticket_4 = Ticket(\"FLG\", \"XNA\")\n",
    "ticket_5 = Ticket(\"NONE\", \"LAX\")\n",
    "ticket_6 = Ticket(\"LAX\", \"SFO\")\n",
    "ticket_7 = Ticket(\"SAP\", \"SLC\")\n",
    "ticket_8 = Ticket(\"ORD\", \"NONE\")\n",
    "ticket_9 = Ticket(\"SLC\", \"PIT\")\n",
    "ticket_10 = Ticket(\"BHM\", \"FLG\")"
   ]
  },
  {
   "cell_type": "code",
   "execution_count": 12,
   "metadata": {},
   "outputs": [],
   "source": [
    "tickets = [ticket_1, ticket_2, ticket_3, ticket_4, ticket_5,\n",
    "           ticket_6, ticket_7, ticket_8, ticket_9, ticket_10]"
   ]
  },
  {
   "cell_type": "code",
   "execution_count": 13,
   "metadata": {},
   "outputs": [
    {
     "data": {
      "text/plain": [
       "[]"
      ]
     },
     "execution_count": 13,
     "metadata": {},
     "output_type": "execute_result"
    }
   ],
   "source": [
    "reconstruct_trip(tickets, 10)"
   ]
  },
  {
   "cell_type": "code",
   "execution_count": 9,
   "metadata": {},
   "outputs": [
    {
     "data": {
      "text/plain": [
       "'PIT'"
      ]
     },
     "execution_count": 9,
     "metadata": {},
     "output_type": "execute_result"
    }
   ],
   "source": [
    "tickets[0].source"
   ]
  },
  {
   "cell_type": "code",
   "execution_count": null,
   "metadata": {},
   "outputs": [],
   "source": []
  }
 ],
 "metadata": {
  "kernelspec": {
   "display_name": "Python 3.7.4 64-bit ('base': conda)",
   "language": "python",
   "name": "python37464bitbaseconda0ab463595d1d41d19d5dab79bf159242"
  },
  "language_info": {
   "codemirror_mode": {
    "name": "ipython",
    "version": 3
   },
   "file_extension": ".py",
   "mimetype": "text/x-python",
   "name": "python",
   "nbconvert_exporter": "python",
   "pygments_lexer": "ipython3",
   "version": "3.7.4"
  }
 },
 "nbformat": 4,
 "nbformat_minor": 4
}
